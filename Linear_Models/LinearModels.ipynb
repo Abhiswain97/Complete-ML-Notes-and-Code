{
 "cells": [
  {
   "cell_type": "raw",
   "id": "b551473c-65c1-4cf8-9669-e753b9dd9706",
   "metadata": {},
   "source": [
    "---\n",
    "title: Linear Models\n",
    "author: Abhishek Swain\n",
    "date: 16 September, 2023\n",
    "format: \n",
    "    pdf: \n",
    "        documentclass: report\n",
    "        fontfamily: libertinus\n",
    "        colorlinks: true\n",
    "        toc: true\n",
    "        toc-title: Table of Contents\n",
    "---"
   ]
  },
  {
   "cell_type": "markdown",
   "id": "2f98f0b6-f158-4266-b1c0-6739b8662f14",
   "metadata": {},
   "source": [
    "# Linear Regression"
   ]
  },
  {
   "cell_type": "markdown",
   "id": "15baf485-7498-4e27-acf5-4e3d740b590e",
   "metadata": {},
   "source": [
    "## The equations"
   ]
  },
  {
   "cell_type": "markdown",
   "id": "023c279b",
   "metadata": {},
   "source": [
    "### Standard equation"
   ]
  },
  {
   "cell_type": "markdown",
   "id": "5b97ba84-99b8-4320-b83a-48f6f1a9b9e1",
   "metadata": {},
   "source": [
    "$\\hat{y} = \\theta_{0} + \\theta_{1}x_{1} + \\theta_{2}x_{2} + \\dots + \\theta_{n}x_{n}$ \n",
    "\n",
    "- $\\hat{y}$ is the predicted value.\n",
    "- n is the number of features.\n",
    "- $x_{i}$ is the $i^{th}$ feature value.\n",
    "- $\\theta_{j}$ is the $j^{th}$ model parameter. "
   ]
  },
  {
   "cell_type": "markdown",
   "id": "02f429b7",
   "metadata": {},
   "source": [
    "### Vectorized equation"
   ]
  },
  {
   "cell_type": "markdown",
   "id": "47e05e10",
   "metadata": {},
   "source": [
    "$\\hat{y} = h_{\\theta}(x) = \\theta \\cdot x$\n",
    "\n",
    "- $\\theta$ here is the model's parameter containing $\\theta_{0} \\dots \\theta_{n}$.\n",
    "- $x$ is the features containing $x_{0} \\dots x_{n}$ where $x_{0}$ is always 1.\n",
    "- $\\theta \\cdot x$ is the dot product between $\\theta$ & x. Both are colum vectors.\n",
    "\n",
    "\n",
    "$\\hat{y} = \\theta \\cdot x = \\theta^{T}x = [\\theta_{0} \\dots \\theta_{n}] \\begin{bmatrix} x_{0} \\\\ \\vdots \\\\ x_{n}\\end{bmatrix} = \\theta_{0} + \\theta_{1}x_{1} + \\theta_{2}x_{2} + \\dots + \\theta_{n}x_{n}$"
   ]
  },
  {
   "cell_type": "markdown",
   "id": "74a3ce12",
   "metadata": {},
   "source": [
    "## Training the model\n",
    "\n",
    "We need a loss function to train this model. Out loss funciton is MSE loss.\n",
    "\n",
    "$MSE(X, h_{\\theta}) = \\frac{1}{m} \\sum_{i=1}^m (\\theta^T x^{(i)} - y^{(i)})^2$\n",
    "\n",
    "Here $(i)$ is the $i^{th}$ training example."
   ]
  },
  {
   "cell_type": "markdown",
   "id": "fefa7c9e",
   "metadata": {},
   "source": [
    "### The Normal Equation\n",
    "\n",
    "Without using any optimization algorithm we also have a direct formula to get the parameters, this formula is the *Normal Equation*"
   ]
  },
  {
   "cell_type": "markdown",
   "id": "4f940884",
   "metadata": {},
   "source": [
    "$\\hat{\\theta} = (X^{T}X)^{-1} X^{T} y$\n",
    "\n",
    "- $\\hat{\\theta}$ is the estimated parameter, $\\hat{\\theta} \\approx \\theta$\n",
    "- $y$ is is the target vector containing $y^{(1)} \\dots y^{(m)}$"
   ]
  },
  {
   "cell_type": "code",
   "execution_count": null,
   "id": "cc5c34e0",
   "metadata": {},
   "outputs": [],
   "source": []
  }
 ],
 "metadata": {
  "kernelspec": {
   "display_name": "Python 3 (ipykernel)",
   "language": "python",
   "name": "python3"
  },
  "language_info": {
   "codemirror_mode": {
    "name": "ipython",
    "version": 3
   },
   "file_extension": ".py",
   "mimetype": "text/x-python",
   "name": "python",
   "nbconvert_exporter": "python",
   "pygments_lexer": "ipython3",
   "version": "3.9.7"
  },
  "toc": {
   "base_numbering": 1,
   "nav_menu": {},
   "number_sections": true,
   "sideBar": true,
   "skip_h1_title": false,
   "title_cell": "Table of Contents",
   "title_sidebar": "Contents",
   "toc_cell": false,
   "toc_position": {
    "height": "calc(100% - 180px)",
    "left": "10px",
    "top": "150px",
    "width": "225.35px"
   },
   "toc_section_display": true,
   "toc_window_display": true
  }
 },
 "nbformat": 4,
 "nbformat_minor": 5
}
