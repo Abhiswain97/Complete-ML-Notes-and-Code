{
 "cells": [
  {
   "cell_type": "raw",
   "id": "b551473c-65c1-4cf8-9669-e753b9dd9706",
   "metadata": {},
   "source": [
    "---\n",
    "title: Linear Models\n",
    "author: Abhishek Swain\n",
    "date: 16 September, 2023\n",
    "format: \n",
    "    pdf: \n",
    "        documentclass: report\n",
    "        fontfamily: libertinus\n",
    "        colorlinks: true\n",
    "        toc: true\n",
    "        toc-depth: 3\n",
    "        toc-title: Table of Contents\n",
    "        keep-tex: true\n",
    "        lof: true\n",
    "jupyter: python3\n",
    "---"
   ]
  },
  {
   "cell_type": "markdown",
   "id": "2f98f0b6-f158-4266-b1c0-6739b8662f14",
   "metadata": {},
   "source": [
    "# Linear Regression"
   ]
  },
  {
   "cell_type": "code",
   "execution_count": 27,
   "id": "0b660ddf",
   "metadata": {},
   "outputs": [],
   "source": [
    "import numpy as np\n",
    "import matplotlib.pyplot as plt\n",
    "from sklearn.preprocessing import add_dummy_feature, PolynomialFeatures\n",
    "from sklearn.linear_model import LinearRegression, SGDRegressor\n",
    "\n",
    "import warnings\n",
    "warnings.filterwarnings(\"ignore\")"
   ]
  },
  {
   "cell_type": "markdown",
   "id": "15baf485-7498-4e27-acf5-4e3d740b590e",
   "metadata": {},
   "source": [
    "## The Equations"
   ]
  },
  {
   "cell_type": "markdown",
   "id": "023c279b",
   "metadata": {},
   "source": [
    "### Standard equation"
   ]
  },
  {
   "cell_type": "markdown",
   "id": "5b97ba84-99b8-4320-b83a-48f6f1a9b9e1",
   "metadata": {},
   "source": [
    "$\\hat{y} = \\theta_{0} + \\theta_{1}x_{1} + \\theta_{2}x_{2} + \\dots + \\theta_{n}x_{n}$ \n",
    "\n",
    "- $\\hat{y}$ is the predicted value.\n",
    "- n is the number of features.\n",
    "- $x_{i}$ is the $i^{th}$ feature value.\n",
    "- $\\theta_{j}$ is the $j^{th}$ model parameter. "
   ]
  },
  {
   "cell_type": "markdown",
   "id": "02f429b7",
   "metadata": {},
   "source": [
    "### Vectorized equation"
   ]
  },
  {
   "cell_type": "markdown",
   "id": "47e05e10",
   "metadata": {},
   "source": [
    "$\\hat{y} = h_{\\theta}(x) = \\theta \\cdot x$\n",
    "\n",
    "- $\\theta$ here is the model's parameter containing $\\theta_{0} \\dots \\theta_{n}$.\n",
    "- $x$ is the features containing $x_{0} \\dots x_{n}$ where $x_{0}$ is always 1.\n",
    "- $\\theta \\cdot x$ is the dot product between $\\theta$ & x. Both are colum vectors.\n",
    "\n",
    "\n",
    "$\\hat{y} = \\theta \\cdot x = \\theta^{T}x = [\\theta_{0} \\dots \\theta_{n}] \\begin{bmatrix} x_{0} \\\\ \\vdots \\\\ x_{n}\\end{bmatrix} = \\theta_{0} + \\theta_{1}x_{1} + \\theta_{2}x_{2} + \\dots + \\theta_{n}x_{n}$\n",
    "\n",
    "where $x_{0} = 1$"
   ]
  },
  {
   "cell_type": "markdown",
   "id": "74a3ce12",
   "metadata": {},
   "source": [
    "## Training the model\n",
    "\n",
    "We need a loss function to train this model. Out loss funciton is MSE loss.\n",
    "\n",
    "$MSE(X, h_{\\theta}) = \\frac{1}{m} \\sum_{i=1}^m (\\theta^T x^{(i)} - y^{(i)})^2$\n",
    "\n",
    "Here $(i)$ is the $i^{th}$ training example."
   ]
  },
  {
   "cell_type": "markdown",
   "id": "fefa7c9e",
   "metadata": {},
   "source": [
    "### The Normal Equation\n",
    "\n",
    "Without using any optimization algorithm we also have a direct formula to get the parameters, this formula is the *Normal Equation*"
   ]
  },
  {
   "cell_type": "markdown",
   "id": "4f940884",
   "metadata": {},
   "source": [
    "$\\hat{\\theta} = (X^{T}X)^{-1} X^{T} y$\n",
    "\n",
    "- $\\hat{\\theta}$ is the estimated parameter, $\\hat{\\theta} \\approx \\theta$\n",
    "- $y$ is is the target vector containing $y^{(1)} \\dots y^{(m)}$"
   ]
  },
  {
   "cell_type": "markdown",
   "id": "0e8fd495",
   "metadata": {},
   "source": [
    "#### Examples"
   ]
  },
  {
   "cell_type": "code",
   "execution_count": 2,
   "id": "fb0df40c",
   "metadata": {},
   "outputs": [],
   "source": [
    "# Generate dummy data\n",
    "\n",
    "np.random.seed(42)\n",
    "m = 100\n",
    "X = 2 * np.random.randn(m, 1)\n",
    "y = 3 * X + np.random.randn(m, 1)\n",
    "\n",
    "# Add bias term to X\n",
    "X_b = add_dummy_feature(X)"
   ]
  },
  {
   "cell_type": "code",
   "execution_count": 3,
   "id": "4efffafb",
   "metadata": {},
   "outputs": [
    {
     "data": {
      "text/plain": [
       "((100, 2), (100, 1))"
      ]
     },
     "execution_count": 3,
     "metadata": {},
     "output_type": "execute_result"
    }
   ],
   "source": [
    "X_b.shape, y.shape"
   ]
  },
  {
   "cell_type": "code",
   "execution_count": 4,
   "id": "8e811a3c",
   "metadata": {},
   "outputs": [],
   "source": [
    "best_theta = np.linalg.inv(X_b.T @ X_b) @ X_b.T @ y # Using the normal eqaution"
   ]
  },
  {
   "cell_type": "code",
   "execution_count": 5,
   "id": "62bf9e5c",
   "metadata": {},
   "outputs": [
    {
     "data": {
      "text/plain": [
       "array([[0.00742783],\n",
       "       [2.92837142]])"
      ]
     },
     "execution_count": 5,
     "metadata": {},
     "output_type": "execute_result"
    }
   ],
   "source": [
    "best_theta"
   ]
  },
  {
   "cell_type": "markdown",
   "id": "01a18ba8",
   "metadata": {},
   "source": [
    "The equation is $y = 3x + \\text{Gaussian Noise}$, and you can see that the estimated $\\theta_{1}$ is $2.9 \\approx 3$ and $\\theta_{0} = 0$"
   ]
  },
  {
   "cell_type": "code",
   "execution_count": 6,
   "id": "7b0ba857",
   "metadata": {},
   "outputs": [],
   "source": [
    "# Make some predictions\n",
    "\n",
    "X_new = np.array([[0], [2]])\n",
    "X_new = add_dummy_feature(X_new)"
   ]
  },
  {
   "cell_type": "code",
   "execution_count": 7,
   "id": "76b2d921",
   "metadata": {},
   "outputs": [],
   "source": [
    "y_pred = X_new @ best_theta"
   ]
  },
  {
   "cell_type": "code",
   "execution_count": 8,
   "id": "5fbcdfb4",
   "metadata": {},
   "outputs": [
    {
     "data": {
      "text/plain": [
       "array([[0.00742783],\n",
       "       [5.86417067]])"
      ]
     },
     "execution_count": 8,
     "metadata": {},
     "output_type": "execute_result"
    }
   ],
   "source": [
    "y_pred"
   ]
  },
  {
   "cell_type": "markdown",
   "id": "cb8e74a1",
   "metadata": {},
   "source": [
    "### Linear Regression with `scikit-learn`"
   ]
  },
  {
   "cell_type": "code",
   "execution_count": 9,
   "id": "2198357e",
   "metadata": {},
   "outputs": [
    {
     "data": {
      "text/plain": [
       "LinearRegression()"
      ]
     },
     "execution_count": 9,
     "metadata": {},
     "output_type": "execute_result"
    }
   ],
   "source": [
    "lr = LinearRegression()\n",
    "lr.fit(X_b, y)"
   ]
  },
  {
   "cell_type": "code",
   "execution_count": 10,
   "id": "bde55729",
   "metadata": {},
   "outputs": [
    {
     "data": {
      "text/plain": [
       "array([[0.        , 2.92837142]])"
      ]
     },
     "execution_count": 10,
     "metadata": {},
     "output_type": "execute_result"
    }
   ],
   "source": [
    "lr.coef_"
   ]
  },
  {
   "cell_type": "markdown",
   "id": "04e455d7",
   "metadata": {},
   "source": [
    "The `LinearRegression` in `sklearn` computes $X^{+}y$ where $X_{+}$ is the pseudoinverse (Moore - Penrose pseudoinverse). We can compute it directly using `np.linalg.pinv` "
   ]
  },
  {
   "cell_type": "code",
   "execution_count": 11,
   "id": "66ccafc4",
   "metadata": {},
   "outputs": [
    {
     "data": {
      "text/plain": [
       "array([[0.00742783],\n",
       "       [2.92837142]])"
      ]
     },
     "execution_count": 11,
     "metadata": {},
     "output_type": "execute_result"
    }
   ],
   "source": [
    "np.linalg.pinv(X_b) @ y"
   ]
  },
  {
   "cell_type": "markdown",
   "id": "39e77567",
   "metadata": {},
   "source": [
    "### Computational Complexity"
   ]
  },
  {
   "cell_type": "markdown",
   "id": "a4ebbf79",
   "metadata": {},
   "source": [
    "- Computing the inverse of $X^{T}X$ which is (n + 1) x (n + 1) matrix upto $O(n^{3})$. The scikit-learn Linear Regression is almost $O(n^{2})$\n",
    "- However, once computed, time to make predictions is very fast. It scales $O(n)$ with the number of predictions to be made"
   ]
  },
  {
   "cell_type": "markdown",
   "id": "89a83376",
   "metadata": {},
   "source": [
    "### Gradient Descent\n",
    "\n",
    "- This is an iterative method to find the parameters of the model\n",
    "- We compute the gradient of the loss function at a particular point and move in the direction of the -ve gradient (the steepest descent)\n",
    "\n",
    "Ex: You want to go down hill from a the top but it is very foggy, you use your feet to find the next steepest descent point\n",
    "\n",
    "We are basically searching in the model's parameter space, so more the parameters, the harder the search becomes.\n",
    "\n",
    "Factors affecting search:\n",
    "- Learning rate determines how big of a step we are taking, too big and we may overshoot\n",
    "- Shape of the function, if the loss function is complex (has lots of highs and toughs) there are chances our GD may get stuck in a *Local Minima* & not the *Global Minima*\n",
    "\n",
    "Fortunately, MSE is a convex function all we do is go down the slope to the bottom of the bowl"
   ]
  },
  {
   "cell_type": "markdown",
   "id": "54d76ea5",
   "metadata": {},
   "source": [
    "#### Batch Gradient Descent"
   ]
  },
  {
   "cell_type": "markdown",
   "id": "e0f60789",
   "metadata": {},
   "source": [
    "To implement GD we need to compute the partial derivative of the Loss function with each parameter of the model\n",
    "\n",
    "$MSE(\\theta) = \\frac{1}{m} \\sum_{i=1}^m (\\theta^T x^{(i)} - y^{(i)})^2$\n",
    "\n",
    "$\\frac{\\partial MSE(\\theta)}{\\partial \\theta_{j}} = \\frac{2}{m} \\sum_{i=1}^m (\\theta^T x^{(i)} - y^{(i)}) x_{j}$\n",
    "\n",
    "Rather than computing them one-by-one, we vectorize the whole stuff,\n",
    "\n",
    "$\\nabla_{\\theta}MSE(\\theta) = \\begin{bmatrix} \\frac{\\partial MSE(\\theta)}{\\partial \\theta_{0}} \\\\ \\frac{\\partial MSE(\\theta)}{\\partial \\theta_{1}} \\\\ \\vdots \\\\ \\frac{\\partial MSE(\\theta)}{\\partial \\theta_{n}} \\end{bmatrix} = \\frac{2}{m} X^{T} (X\\theta - y)$\n",
    "\n",
    "The gradient descent step:\n",
    "\n",
    "$\\theta = \\theta - \\eta\\nabla_{\\theta}MSE(\\theta)$"
   ]
  },
  {
   "cell_type": "code",
   "execution_count": 12,
   "id": "84fb7be8",
   "metadata": {},
   "outputs": [],
   "source": [
    "# Quick implementation\n",
    "\n",
    "lr = 0.1\n",
    "n_epochs = 1000\n",
    "\n",
    "m = len(X_b)\n",
    "\n",
    "theta = np.random.randn(2, 1) # Sample theta from Gaussian distribution\n",
    "\n",
    "for _ in range(n_epochs):\n",
    "    grad = (2/m) * X_b.T @ (X_b @ theta -  y)\n",
    "    theta = theta - lr * grad"
   ]
  },
  {
   "cell_type": "code",
   "execution_count": 13,
   "id": "2356c0a3",
   "metadata": {},
   "outputs": [
    {
     "data": {
      "text/plain": [
       "array([[0.00742783],\n",
       "       [2.92837142]])"
      ]
     },
     "execution_count": 13,
     "metadata": {},
     "output_type": "execute_result"
    }
   ],
   "source": [
    "theta"
   ]
  },
  {
   "cell_type": "code",
   "execution_count": 14,
   "id": "e5faad1c",
   "metadata": {},
   "outputs": [
    {
     "data": {
      "text/plain": [
       "array([[0.00742783],\n",
       "       [2.92837142]])"
      ]
     },
     "execution_count": 14,
     "metadata": {},
     "output_type": "execute_result"
    }
   ],
   "source": [
    "best_theta"
   ]
  },
  {
   "cell_type": "markdown",
   "id": "c5f46528",
   "metadata": {},
   "source": [
    "As we can see that the value we got from the normal equation and through GD is the same!"
   ]
  },
  {
   "cell_type": "markdown",
   "id": "7572a02d",
   "metadata": {},
   "source": [
    "#### Stochastic Gradient Descent\n",
    "\n",
    "- The issue with batch gradient descent is that it goes through the whole traininig set at once, making it very slow when the training set is huge. To solve this a better approach is SGD. It picks a random instance from the traning set and calculates the gradient based on that instance.\n",
    "- This causes the loss value to bounce up and down. So unlile BGD we will not see a gradual decrease but only seeing a decrease in loss on average.\n",
    "- This causes the loss to never settle even after reaching a minimum that also helps it get out of a local minima better than BGD. \n",
    "- To solve this we can use something called \"simulated annealing\", in which we keep decreasing the learning rate gradually (learning schedule)."
   ]
  },
  {
   "cell_type": "code",
   "execution_count": 15,
   "id": "cb6f825a",
   "metadata": {},
   "outputs": [],
   "source": [
    "# Implementation\n",
    "\n",
    "n_epochs = 50\n",
    "\n",
    "t0, t1 = 5, 50\n",
    "\n",
    "m =  len(X_b)\n",
    "\n",
    "theta = np.random.randn(2, 1)\n",
    "\n",
    "def learning_schedule(t):\n",
    "    return t0 / (t + t1)\n",
    "\n",
    "for epoch in range(n_epochs):\n",
    "    for i in range(m):\n",
    "        idx = np.random.randint(m)\n",
    "        Xi = X_b[idx:]\n",
    "        yi = y[idx:]\n",
    "        \n",
    "        grad = 2 * Xi.T @ (Xi @ theta - yi) # Do not divide by m, as it's a single instance\n",
    "        theta = theta - learning_schedule(epoch * m + i) * grad    "
   ]
  },
  {
   "cell_type": "code",
   "execution_count": 16,
   "id": "64b63a88",
   "metadata": {},
   "outputs": [
    {
     "data": {
      "text/plain": [
       "array([[0.01630277],\n",
       "       [2.92664477]])"
      ]
     },
     "execution_count": 16,
     "metadata": {},
     "output_type": "execute_result"
    }
   ],
   "source": [
    "theta"
   ]
  },
  {
   "cell_type": "markdown",
   "id": "5bd738bc",
   "metadata": {},
   "source": [
    "We arrive at almost the same values but with just 50 epochs\n",
    "\n",
    "> All data need to be Identically and Independently distributed (IID) for SGD to work correctly, if the data is sorted by label then it will start optimizing for only one label."
   ]
  },
  {
   "cell_type": "markdown",
   "id": "e146513f",
   "metadata": {},
   "source": [
    "#### SGD with `scikit-learn`"
   ]
  },
  {
   "cell_type": "code",
   "execution_count": 17,
   "id": "ccbac60c",
   "metadata": {},
   "outputs": [
    {
     "data": {
      "text/plain": [
       "SGDRegressor(n_iter_no_change=100, random_state=42, tol=1e-05)"
      ]
     },
     "execution_count": 17,
     "metadata": {},
     "output_type": "execute_result"
    }
   ],
   "source": [
    "sgd = SGDRegressor(\n",
    "    max_iter=1000, \n",
    "    tol=1e-5, \n",
    "    eta0=0.01, \n",
    "    n_iter_no_change=100, \n",
    "    random_state=42\n",
    ")\n",
    "sgd.fit(X_b, y.ravel())"
   ]
  },
  {
   "cell_type": "code",
   "execution_count": 18,
   "id": "909ae25f",
   "metadata": {},
   "outputs": [
    {
     "data": {
      "text/plain": [
       "array([0.00404065, 2.92966112])"
      ]
     },
     "execution_count": 18,
     "metadata": {},
     "output_type": "execute_result"
    }
   ],
   "source": [
    "sgd.coef_"
   ]
  },
  {
   "cell_type": "markdown",
   "id": "eb3ba32d",
   "metadata": {},
   "source": [
    "#### Mini batch Gradient Descent"
   ]
  },
  {
   "cell_type": "code",
   "execution_count": 19,
   "id": "21b7b58f",
   "metadata": {},
   "outputs": [],
   "source": [
    "batches = [(X_b[i:i+10], y[i:i+10]) for i in range(0, len(X_b), 10)]"
   ]
  },
  {
   "cell_type": "code",
   "execution_count": 24,
   "id": "ab108288",
   "metadata": {},
   "outputs": [],
   "source": [
    "n_epochs = 30\n",
    "theta = np.random.randn(2, 1)\n",
    "lr = 0.01\n",
    "\n",
    "for epoch in range(n_epochs):\n",
    "    for xi, yi in batches:\n",
    "        m = len(xi)\n",
    "        grad = (2/m) * xi.T @ (xi @ theta - yi)\n",
    "        theta = theta - lr * grad   "
   ]
  },
  {
   "cell_type": "code",
   "execution_count": 25,
   "id": "f1fdb7a5",
   "metadata": {},
   "outputs": [
    {
     "data": {
      "text/plain": [
       "array([[0.00396903],\n",
       "       [2.92040931]])"
      ]
     },
     "execution_count": 25,
     "metadata": {},
     "output_type": "execute_result"
    }
   ],
   "source": [
    "theta"
   ]
  },
  {
   "cell_type": "markdown",
   "id": "f13e507a",
   "metadata": {},
   "source": [
    "# Polynomial Regression"
   ]
  },
  {
   "cell_type": "code",
   "execution_count": 71,
   "id": "f34cd5ae",
   "metadata": {},
   "outputs": [],
   "source": [
    "np.random.seed(42)\n",
    "m = 200\n",
    "X = 6 * np.random.randn(m, 1)\n",
    "y = 3 * X ** 2 + X + 2 + np.random.randn(m, 1)"
   ]
  },
  {
   "cell_type": "code",
   "execution_count": 78,
   "id": "6fe1524a",
   "metadata": {},
   "outputs": [
    {
     "data": {
      "image/png": "[encoded data removed]",
      "text/plain": [
       "<Figure size 432x288 with 1 Axes>"
      ]
     },
     "metadata": {
      "needs_background": "light"
     },
     "output_type": "display_data"
    }
   ],
   "source": [
    "#| label: Random-polynomial-data\n",
    "#| fig-cap: \"Random Polynomial data\"\n",
    "\n",
    "plt.plot(X, y, \"b.\")\n",
    "plt.show()"
   ]
  },
  {
   "cell_type": "code",
   "execution_count": 73,
   "id": "c5b406d2",
   "metadata": {},
   "outputs": [
    {
     "data": {
      "text/plain": [
       "LinearRegression()"
      ]
     },
     "execution_count": 73,
     "metadata": {},
     "output_type": "execute_result"
    }
   ],
   "source": [
    "lr = LinearRegression()\n",
    "lr.fit(X, y)"
   ]
  },
  {
   "cell_type": "code",
   "execution_count": 74,
   "id": "2fb7cfe8",
   "metadata": {},
   "outputs": [
    {
     "data": {
      "text/plain": [
       "(array([[1.76348997]]), array([95.59508332]))"
      ]
     },
     "execution_count": 74,
     "metadata": {},
     "output_type": "execute_result"
    }
   ],
   "source": [
    "lr.coef_, lr.intercept_"
   ]
  },
  {
   "cell_type": "markdown",
   "id": "04375a95",
   "metadata": {},
   "source": [
    "Simple LR doesn't do well, that is expected. We need to create some polynomial features"
   ]
  },
  {
   "cell_type": "code",
   "execution_count": 75,
   "id": "c2aa7c8d",
   "metadata": {},
   "outputs": [],
   "source": [
    "X_poly = PolynomialFeatures(include_bias=False).fit_transform(X)"
   ]
  },
  {
   "cell_type": "code",
   "execution_count": 76,
   "id": "7cb45bd9",
   "metadata": {},
   "outputs": [
    {
     "data": {
      "text/plain": [
       "LinearRegression()"
      ]
     },
     "execution_count": 76,
     "metadata": {},
     "output_type": "execute_result"
    }
   ],
   "source": [
    "lr.fit(X_poly, y)"
   ]
  },
  {
   "cell_type": "code",
   "execution_count": 77,
   "id": "9b6be839",
   "metadata": {},
   "outputs": [
    {
     "data": {
      "text/plain": [
       "(array([[1.01748959, 2.99727606]]), array([2.17488155]))"
      ]
     },
     "execution_count": 77,
     "metadata": {},
     "output_type": "execute_result"
    }
   ],
   "source": [
    "lr.coef_, lr.intercept_"
   ]
  },
  {
   "cell_type": "markdown",
   "id": "995cc1ef",
   "metadata": {},
   "source": [
    "This does so much better, our equation $y = 3X^{2} + X + 2 + \\text{Gaussian Noise}$, the predicted equation is $y = 2.99X^{2} + 1.017 X + 2.17$"
   ]
  },
  {
   "cell_type": "markdown",
   "id": "abc32960",
   "metadata": {},
   "source": [
    "# Bias/Variance Tradeoff"
   ]
  },
  {
   "cell_type": "markdown",
   "id": "8577c549",
   "metadata": {},
   "source": [
    "Model's generalization error is a sum of 3 different error:\n",
    "\n",
    "1. **Bias**: \n",
    "- Arising due to wrong assumptions like thinking data is linear when it is quadratic.\n",
    "- *High Bias* model mostly *Underfits*.\n",
    "\n",
    "2. **Variance**:\n",
    "- Arising due to model's excessive sensitivity to small variations in the data.\n",
    "- Model with high degrees of freedom likely has high variance.\n",
    "- *High Variance* model mostly *Overfits*.\n",
    "\n",
    "3. **Irreducible Error**\n",
    "- Arising due to noise in data.\n",
    "- Only way to solve is to clean the data. "
   ]
  },
  {
   "cell_type": "code",
   "execution_count": null,
   "id": "74716603",
   "metadata": {},
   "outputs": [],
   "source": []
  }
 ],
 "metadata": {
  "kernelspec": {
   "display_name": "Python 3 (ipykernel)",
   "language": "python",
   "name": "python3"
  },
  "language_info": {
   "codemirror_mode": {
    "name": "ipython",
    "version": 3
   },
   "file_extension": ".py",
   "mimetype": "text/x-python",
   "name": "python",
   "nbconvert_exporter": "python",
   "pygments_lexer": "ipython3",
   "version": "3.9.7"
  },
  "toc": {
   "base_numbering": 1,
   "nav_menu": {},
   "number_sections": true,
   "sideBar": true,
   "skip_h1_title": false,
   "title_cell": "Table of Contents",
   "title_sidebar": "Contents",
   "toc_cell": false,
   "toc_position": {
    "height": "calc(100% - 180px)",
    "left": "10px",
    "top": "150px",
    "width": "225.35px"
   },
   "toc_section_display": true,
   "toc_window_display": true
  }
 },
 "nbformat": 4,
 "nbformat_minor": 5
}
